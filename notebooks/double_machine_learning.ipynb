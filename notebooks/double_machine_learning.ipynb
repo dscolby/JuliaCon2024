{
 "cells": [
  {
   "cell_type": "markdown",
   "metadata": {},
   "source": [
    "# Double Machine Learning with CausalELM\n",
    "In this notebook we will see how we can easily estimate average treatment effects with CausalELM using double machine larning. Double machine learning is a method for estimating treatment effects when the data is high dimensional or the functional form of the model is unknown. The idea is to estimate treatment and outcome models (that are ensembles of ELMs), use out of fold predictions to get residuals, and regress the outcome residuals on the treatment residuals in a final model. \n",
    "\n",
    "For more details see Chernozhukov, Victor, Denis Chetverikov, Mert Demirer, Esther Duflo, Christian Hansen, Whitney Newey, and James Robins. \"Double/debiased machine learning for treatment and structural parameters.\" (2018): C1-C68."
   ]
  },
  {
   "cell_type": "markdown",
   "metadata": {},
   "source": [
    "## Setup\n",
    "We will load CausalELM along with the necessary packages to read and manipulate the data. We will also set the seed here."
   ]
  },
  {
   "cell_type": "code",
   "execution_count": 1,
   "metadata": {},
   "outputs": [],
   "source": [
    "using CSV\n",
    "using DataFrames\n",
    "using CausalELM\n",
    "using Random"
   ]
  },
  {
   "cell_type": "code",
   "execution_count": 2,
   "metadata": {},
   "outputs": [
    {
     "data": {
      "text/plain": [
       "TaskLocalRNG()"
      ]
     },
     "metadata": {},
     "output_type": "display_data"
    }
   ],
   "source": [
    "Random.seed!(2024)"
   ]
  },
  {
   "cell_type": "markdown",
   "metadata": {},
   "source": [
    "# Data\n",
    "This data comes from a 1994 study by Poterba et. al that examined the effect of 401(k) (pension plan in the US) eligibility on net financial assets. The dependent variable is net total financial assets, which is net_tfa in the dataframe. The treatment variable is an indicator denoting whether an individual was eligible to enroll in the 401(d) plan, which corresponds to the e401 column. The study contolled for age, income, family size, years of education, marital status, a two-earner status indicator, a defined benefit pension income indicator, an IRA paticipation indicator, and a home ownership indicator, which correspond to the age, inc, fsize, educ, marr, twoearn, db, pira, and hown columns. There are also one hot encoded versions of some of these variables, which we will not use."
   ]
  },
  {
   "cell_type": "code",
   "execution_count": 3,
   "metadata": {},
   "outputs": [
    {
     "data": {
      "text/html": [
       "<div><div style = \"float: left;\"><span>9915×10 DataFrame</span></div><div style = \"float: right;\"><span style = \"font-style: italic;\">9890 rows omitted</span></div><div style = \"clear: both;\"></div></div><div class = \"data-frame\" style = \"overflow-x: scroll;\"><table class = \"data-frame\" style = \"margin-bottom: 6px;\"><thead><tr class = \"header\"><th class = \"rowNumber\" style = \"font-weight: bold; text-align: right;\">Row</th><th style = \"text-align: left;\">net_tfa</th><th style = \"text-align: left;\">e401</th><th style = \"text-align: left;\">age</th><th style = \"text-align: left;\">inc</th><th style = \"text-align: left;\">fsize</th><th style = \"text-align: left;\">marr</th><th style = \"text-align: left;\">twoearn</th><th style = \"text-align: left;\">db</th><th style = \"text-align: left;\">pira</th><th style = \"text-align: left;\">hown</th></tr><tr class = \"subheader headerLastRow\"><th class = \"rowNumber\" style = \"font-weight: bold; text-align: right;\"></th><th title = \"Int64\" style = \"text-align: left;\">Int64</th><th title = \"Int64\" style = \"text-align: left;\">Int64</th><th title = \"Int64\" style = \"text-align: left;\">Int64</th><th title = \"Int64\" style = \"text-align: left;\">Int64</th><th title = \"Int64\" style = \"text-align: left;\">Int64</th><th title = \"Int64\" style = \"text-align: left;\">Int64</th><th title = \"Int64\" style = \"text-align: left;\">Int64</th><th title = \"Int64\" style = \"text-align: left;\">Int64</th><th title = \"Int64\" style = \"text-align: left;\">Int64</th><th title = \"Int64\" style = \"text-align: left;\">Int64</th></tr></thead><tbody><tr><td class = \"rowNumber\" style = \"font-weight: bold; text-align: right;\">1</td><td style = \"text-align: right;\">-3300</td><td style = \"text-align: right;\">0</td><td style = \"text-align: right;\">31</td><td style = \"text-align: right;\">28146</td><td style = \"text-align: right;\">5</td><td style = \"text-align: right;\">1</td><td style = \"text-align: right;\">0</td><td style = \"text-align: right;\">0</td><td style = \"text-align: right;\">0</td><td style = \"text-align: right;\">1</td></tr><tr><td class = \"rowNumber\" style = \"font-weight: bold; text-align: right;\">2</td><td style = \"text-align: right;\">61010</td><td style = \"text-align: right;\">0</td><td style = \"text-align: right;\">52</td><td style = \"text-align: right;\">32634</td><td style = \"text-align: right;\">5</td><td style = \"text-align: right;\">0</td><td style = \"text-align: right;\">0</td><td style = \"text-align: right;\">0</td><td style = \"text-align: right;\">0</td><td style = \"text-align: right;\">1</td></tr><tr><td class = \"rowNumber\" style = \"font-weight: bold; text-align: right;\">3</td><td style = \"text-align: right;\">8849</td><td style = \"text-align: right;\">0</td><td style = \"text-align: right;\">50</td><td style = \"text-align: right;\">52206</td><td style = \"text-align: right;\">3</td><td style = \"text-align: right;\">1</td><td style = \"text-align: right;\">1</td><td style = \"text-align: right;\">0</td><td style = \"text-align: right;\">1</td><td style = \"text-align: right;\">1</td></tr><tr><td class = \"rowNumber\" style = \"font-weight: bold; text-align: right;\">4</td><td style = \"text-align: right;\">-6013</td><td style = \"text-align: right;\">0</td><td style = \"text-align: right;\">28</td><td style = \"text-align: right;\">45252</td><td style = \"text-align: right;\">4</td><td style = \"text-align: right;\">1</td><td style = \"text-align: right;\">1</td><td style = \"text-align: right;\">0</td><td style = \"text-align: right;\">0</td><td style = \"text-align: right;\">0</td></tr><tr><td class = \"rowNumber\" style = \"font-weight: bold; text-align: right;\">5</td><td style = \"text-align: right;\">-2375</td><td style = \"text-align: right;\">0</td><td style = \"text-align: right;\">42</td><td style = \"text-align: right;\">33126</td><td style = \"text-align: right;\">3</td><td style = \"text-align: right;\">0</td><td style = \"text-align: right;\">0</td><td style = \"text-align: right;\">1</td><td style = \"text-align: right;\">0</td><td style = \"text-align: right;\">1</td></tr><tr><td class = \"rowNumber\" style = \"font-weight: bold; text-align: right;\">6</td><td style = \"text-align: right;\">-11000</td><td style = \"text-align: right;\">0</td><td style = \"text-align: right;\">49</td><td style = \"text-align: right;\">76860</td><td style = \"text-align: right;\">6</td><td style = \"text-align: right;\">1</td><td style = \"text-align: right;\">1</td><td style = \"text-align: right;\">1</td><td style = \"text-align: right;\">0</td><td style = \"text-align: right;\">1</td></tr><tr><td class = \"rowNumber\" style = \"font-weight: bold; text-align: right;\">7</td><td style = \"text-align: right;\">-16901</td><td style = \"text-align: right;\">0</td><td style = \"text-align: right;\">40</td><td style = \"text-align: right;\">57477</td><td style = \"text-align: right;\">4</td><td style = \"text-align: right;\">1</td><td style = \"text-align: right;\">1</td><td style = \"text-align: right;\">1</td><td style = \"text-align: right;\">0</td><td style = \"text-align: right;\">1</td></tr><tr><td class = \"rowNumber\" style = \"font-weight: bold; text-align: right;\">8</td><td style = \"text-align: right;\">1000</td><td style = \"text-align: right;\">0</td><td style = \"text-align: right;\">58</td><td style = \"text-align: right;\">14637</td><td style = \"text-align: right;\">1</td><td style = \"text-align: right;\">0</td><td style = \"text-align: right;\">0</td><td style = \"text-align: right;\">0</td><td style = \"text-align: right;\">0</td><td style = \"text-align: right;\">0</td></tr><tr><td class = \"rowNumber\" style = \"font-weight: bold; text-align: right;\">9</td><td style = \"text-align: right;\">0</td><td style = \"text-align: right;\">0</td><td style = \"text-align: right;\">29</td><td style = \"text-align: right;\">6573</td><td style = \"text-align: right;\">4</td><td style = \"text-align: right;\">0</td><td style = \"text-align: right;\">0</td><td style = \"text-align: right;\">0</td><td style = \"text-align: right;\">0</td><td style = \"text-align: right;\">0</td></tr><tr><td class = \"rowNumber\" style = \"font-weight: bold; text-align: right;\">10</td><td style = \"text-align: right;\">6400</td><td style = \"text-align: right;\">0</td><td style = \"text-align: right;\">50</td><td style = \"text-align: right;\">5766</td><td style = \"text-align: right;\">1</td><td style = \"text-align: right;\">0</td><td style = \"text-align: right;\">0</td><td style = \"text-align: right;\">0</td><td style = \"text-align: right;\">1</td><td style = \"text-align: right;\">0</td></tr><tr><td class = \"rowNumber\" style = \"font-weight: bold; text-align: right;\">11</td><td style = \"text-align: right;\">24900</td><td style = \"text-align: right;\">0</td><td style = \"text-align: right;\">45</td><td style = \"text-align: right;\">43239</td><td style = \"text-align: right;\">1</td><td style = \"text-align: right;\">0</td><td style = \"text-align: right;\">0</td><td style = \"text-align: right;\">1</td><td style = \"text-align: right;\">1</td><td style = \"text-align: right;\">1</td></tr><tr><td class = \"rowNumber\" style = \"font-weight: bold; text-align: right;\">12</td><td style = \"text-align: right;\">-675</td><td style = \"text-align: right;\">0</td><td style = \"text-align: right;\">25</td><td style = \"text-align: right;\">40323</td><td style = \"text-align: right;\">3</td><td style = \"text-align: right;\">1</td><td style = \"text-align: right;\">1</td><td style = \"text-align: right;\">0</td><td style = \"text-align: right;\">0</td><td style = \"text-align: right;\">0</td></tr><tr><td class = \"rowNumber\" style = \"font-weight: bold; text-align: right;\">13</td><td style = \"text-align: right;\">-400</td><td style = \"text-align: right;\">0</td><td style = \"text-align: right;\">30</td><td style = \"text-align: right;\">30000</td><td style = \"text-align: right;\">2</td><td style = \"text-align: right;\">1</td><td style = \"text-align: right;\">0</td><td style = \"text-align: right;\">0</td><td style = \"text-align: right;\">0</td><td style = \"text-align: right;\">0</td></tr><tr><td style = \"text-align: right;\">&vellip;</td><td style = \"text-align: right;\">&vellip;</td><td style = \"text-align: right;\">&vellip;</td><td style = \"text-align: right;\">&vellip;</td><td style = \"text-align: right;\">&vellip;</td><td style = \"text-align: right;\">&vellip;</td><td style = \"text-align: right;\">&vellip;</td><td style = \"text-align: right;\">&vellip;</td><td style = \"text-align: right;\">&vellip;</td><td style = \"text-align: right;\">&vellip;</td><td style = \"text-align: right;\">&vellip;</td></tr><tr><td class = \"rowNumber\" style = \"font-weight: bold; text-align: right;\">9904</td><td style = \"text-align: right;\">178935</td><td style = \"text-align: right;\">1</td><td style = \"text-align: right;\">63</td><td style = \"text-align: right;\">38307</td><td style = \"text-align: right;\">1</td><td style = \"text-align: right;\">0</td><td style = \"text-align: right;\">0</td><td style = \"text-align: right;\">0</td><td style = \"text-align: right;\">1</td><td style = \"text-align: right;\">1</td></tr><tr><td class = \"rowNumber\" style = \"font-weight: bold; text-align: right;\">9905</td><td style = \"text-align: right;\">18900</td><td style = \"text-align: right;\">1</td><td style = \"text-align: right;\">32</td><td style = \"text-align: right;\">49542</td><td style = \"text-align: right;\">3</td><td style = \"text-align: right;\">1</td><td style = \"text-align: right;\">1</td><td style = \"text-align: right;\">0</td><td style = \"text-align: right;\">0</td><td style = \"text-align: right;\">1</td></tr><tr><td class = \"rowNumber\" style = \"font-weight: bold; text-align: right;\">9906</td><td style = \"text-align: right;\">-1436</td><td style = \"text-align: right;\">1</td><td style = \"text-align: right;\">27</td><td style = \"text-align: right;\">37815</td><td style = \"text-align: right;\">4</td><td style = \"text-align: right;\">1</td><td style = \"text-align: right;\">1</td><td style = \"text-align: right;\">0</td><td style = \"text-align: right;\">0</td><td style = \"text-align: right;\">0</td></tr><tr><td class = \"rowNumber\" style = \"font-weight: bold; text-align: right;\">9907</td><td style = \"text-align: right;\">4500</td><td style = \"text-align: right;\">1</td><td style = \"text-align: right;\">42</td><td style = \"text-align: right;\">16512</td><td style = \"text-align: right;\">1</td><td style = \"text-align: right;\">0</td><td style = \"text-align: right;\">0</td><td style = \"text-align: right;\">0</td><td style = \"text-align: right;\">0</td><td style = \"text-align: right;\">1</td></tr><tr><td class = \"rowNumber\" style = \"font-weight: bold; text-align: right;\">9908</td><td style = \"text-align: right;\">34739</td><td style = \"text-align: right;\">1</td><td style = \"text-align: right;\">38</td><td style = \"text-align: right;\">17028</td><td style = \"text-align: right;\">3</td><td style = \"text-align: right;\">1</td><td style = \"text-align: right;\">0</td><td style = \"text-align: right;\">0</td><td style = \"text-align: right;\">0</td><td style = \"text-align: right;\">1</td></tr><tr><td class = \"rowNumber\" style = \"font-weight: bold; text-align: right;\">9909</td><td style = \"text-align: right;\">-750</td><td style = \"text-align: right;\">1</td><td style = \"text-align: right;\">28</td><td style = \"text-align: right;\">31926</td><td style = \"text-align: right;\">2</td><td style = \"text-align: right;\">1</td><td style = \"text-align: right;\">1</td><td style = \"text-align: right;\">0</td><td style = \"text-align: right;\">0</td><td style = \"text-align: right;\">0</td></tr><tr><td class = \"rowNumber\" style = \"font-weight: bold; text-align: right;\">9910</td><td style = \"text-align: right;\">40000</td><td style = \"text-align: right;\">1</td><td style = \"text-align: right;\">49</td><td style = \"text-align: right;\">64215</td><td style = \"text-align: right;\">4</td><td style = \"text-align: right;\">1</td><td style = \"text-align: right;\">1</td><td style = \"text-align: right;\">0</td><td style = \"text-align: right;\">1</td><td style = \"text-align: right;\">1</td></tr><tr><td class = \"rowNumber\" style = \"font-weight: bold; text-align: right;\">9911</td><td style = \"text-align: right;\">172</td><td style = \"text-align: right;\">1</td><td style = \"text-align: right;\">34</td><td style = \"text-align: right;\">13500</td><td style = \"text-align: right;\">1</td><td style = \"text-align: right;\">0</td><td style = \"text-align: right;\">0</td><td style = \"text-align: right;\">1</td><td style = \"text-align: right;\">0</td><td style = \"text-align: right;\">0</td></tr><tr><td class = \"rowNumber\" style = \"font-weight: bold; text-align: right;\">9912</td><td style = \"text-align: right;\">836</td><td style = \"text-align: right;\">1</td><td style = \"text-align: right;\">33</td><td style = \"text-align: right;\">39027</td><td style = \"text-align: right;\">3</td><td style = \"text-align: right;\">1</td><td style = \"text-align: right;\">0</td><td style = \"text-align: right;\">1</td><td style = \"text-align: right;\">0</td><td style = \"text-align: right;\">1</td></tr><tr><td class = \"rowNumber\" style = \"font-weight: bold; text-align: right;\">9913</td><td style = \"text-align: right;\">6150</td><td style = \"text-align: right;\">1</td><td style = \"text-align: right;\">34</td><td style = \"text-align: right;\">62616</td><td style = \"text-align: right;\">4</td><td style = \"text-align: right;\">1</td><td style = \"text-align: right;\">1</td><td style = \"text-align: right;\">0</td><td style = \"text-align: right;\">0</td><td style = \"text-align: right;\">1</td></tr><tr><td class = \"rowNumber\" style = \"font-weight: bold; text-align: right;\">9914</td><td style = \"text-align: right;\">14499</td><td style = \"text-align: right;\">1</td><td style = \"text-align: right;\">41</td><td style = \"text-align: right;\">56190</td><td style = \"text-align: right;\">3</td><td style = \"text-align: right;\">1</td><td style = \"text-align: right;\">1</td><td style = \"text-align: right;\">1</td><td style = \"text-align: right;\">0</td><td style = \"text-align: right;\">1</td></tr><tr><td class = \"rowNumber\" style = \"font-weight: bold; text-align: right;\">9915</td><td style = \"text-align: right;\">-5400</td><td style = \"text-align: right;\">1</td><td style = \"text-align: right;\">28</td><td style = \"text-align: right;\">26205</td><td style = \"text-align: right;\">4</td><td style = \"text-align: right;\">1</td><td style = \"text-align: right;\">1</td><td style = \"text-align: right;\">0</td><td style = \"text-align: right;\">0</td><td style = \"text-align: right;\">0</td></tr></tbody></table></div>"
      ],
      "text/latex": [
       "\\begin{tabular}{r|cccccccccc}\n",
       "\t& net\\_tfa & e401 & age & inc & fsize & marr & twoearn & db & pira & hown\\\\\n",
       "\t\\hline\n",
       "\t& Int64 & Int64 & Int64 & Int64 & Int64 & Int64 & Int64 & Int64 & Int64 & Int64\\\\\n",
       "\t\\hline\n",
       "\t1 & -3300 & 0 & 31 & 28146 & 5 & 1 & 0 & 0 & 0 & 1 \\\\\n",
       "\t2 & 61010 & 0 & 52 & 32634 & 5 & 0 & 0 & 0 & 0 & 1 \\\\\n",
       "\t3 & 8849 & 0 & 50 & 52206 & 3 & 1 & 1 & 0 & 1 & 1 \\\\\n",
       "\t4 & -6013 & 0 & 28 & 45252 & 4 & 1 & 1 & 0 & 0 & 0 \\\\\n",
       "\t5 & -2375 & 0 & 42 & 33126 & 3 & 0 & 0 & 1 & 0 & 1 \\\\\n",
       "\t6 & -11000 & 0 & 49 & 76860 & 6 & 1 & 1 & 1 & 0 & 1 \\\\\n",
       "\t7 & -16901 & 0 & 40 & 57477 & 4 & 1 & 1 & 1 & 0 & 1 \\\\\n",
       "\t8 & 1000 & 0 & 58 & 14637 & 1 & 0 & 0 & 0 & 0 & 0 \\\\\n",
       "\t9 & 0 & 0 & 29 & 6573 & 4 & 0 & 0 & 0 & 0 & 0 \\\\\n",
       "\t10 & 6400 & 0 & 50 & 5766 & 1 & 0 & 0 & 0 & 1 & 0 \\\\\n",
       "\t11 & 24900 & 0 & 45 & 43239 & 1 & 0 & 0 & 1 & 1 & 1 \\\\\n",
       "\t12 & -675 & 0 & 25 & 40323 & 3 & 1 & 1 & 0 & 0 & 0 \\\\\n",
       "\t13 & -400 & 0 & 30 & 30000 & 2 & 1 & 0 & 0 & 0 & 0 \\\\\n",
       "\t14 & -83 & 0 & 27 & 9612 & 1 & 0 & 0 & 0 & 0 & 0 \\\\\n",
       "\t15 & 35400 & 0 & 42 & 85086 & 4 & 1 & 1 & 0 & 1 & 1 \\\\\n",
       "\t16 & -100 & 0 & 35 & 32208 & 2 & 1 & 1 & 0 & 0 & 0 \\\\\n",
       "\t17 & 62300 & 0 & 35 & 63525 & 1 & 0 & 0 & 0 & 1 & 0 \\\\\n",
       "\t18 & -3888 & 0 & 41 & 31896 & 5 & 1 & 0 & 0 & 0 & 0 \\\\\n",
       "\t19 & 20 & 0 & 53 & 9744 & 1 & 1 & 0 & 0 & 0 & 0 \\\\\n",
       "\t20 & 3098 & 0 & 62 & 74589 & 3 & 1 & 0 & 1 & 0 & 1 \\\\\n",
       "\t21 & 205 & 0 & 45 & 38148 & 1 & 0 & 0 & 0 & 0 & 0 \\\\\n",
       "\t22 & 2863 & 0 & 56 & 16290 & 1 & 0 & 0 & 0 & 0 & 0 \\\\\n",
       "\t23 & 0 & 0 & 31 & 11340 & 1 & 0 & 0 & 0 & 0 & 0 \\\\\n",
       "\t24 & -2171 & 0 & 31 & 26175 & 5 & 1 & 1 & 0 & 0 & 0 \\\\\n",
       "\t$\\dots$ & $\\dots$ & $\\dots$ & $\\dots$ & $\\dots$ & $\\dots$ & $\\dots$ & $\\dots$ & $\\dots$ & $\\dots$ & $\\dots$ \\\\\n",
       "\\end{tabular}\n"
      ],
      "text/plain": [
       "\u001b[1m9915×10 DataFrame\u001b[0m\n",
       "\u001b[1m  Row \u001b[0m│\u001b[1m net_tfa \u001b[0m\u001b[1m e401  \u001b[0m\u001b[1m age   \u001b[0m\u001b[1m inc   \u001b[0m\u001b[1m fsize \u001b[0m\u001b[1m marr  \u001b[0m\u001b[1m twoearn \u001b[0m\u001b[1m db    \u001b[0m\u001b[1m pira  \u001b[0m\u001b[1m how\u001b[0m ⋯\n",
       "      │\u001b[90m Int64   \u001b[0m\u001b[90m Int64 \u001b[0m\u001b[90m Int64 \u001b[0m\u001b[90m Int64 \u001b[0m\u001b[90m Int64 \u001b[0m\u001b[90m Int64 \u001b[0m\u001b[90m Int64   \u001b[0m\u001b[90m Int64 \u001b[0m\u001b[90m Int64 \u001b[0m\u001b[90m Int\u001b[0m ⋯\n",
       "──────┼─────────────────────────────────────────────────────────────────────────\n",
       "    1 │   -3300      0     31  28146      5      1        0      0      0      ⋯\n",
       "    2 │   61010      0     52  32634      5      0        0      0      0\n",
       "    3 │    8849      0     50  52206      3      1        1      0      1\n",
       "    4 │   -6013      0     28  45252      4      1        1      0      0\n",
       "    5 │   -2375      0     42  33126      3      0        0      1      0      ⋯\n",
       "    6 │  -11000      0     49  76860      6      1        1      1      0\n",
       "    7 │  -16901      0     40  57477      4      1        1      1      0\n",
       "    8 │    1000      0     58  14637      1      0        0      0      0\n",
       "  ⋮   │    ⋮       ⋮      ⋮      ⋮      ⋮      ⋮       ⋮       ⋮      ⋮      ⋮ ⋱\n",
       " 9909 │    -750      1     28  31926      2      1        1      0      0      ⋯\n",
       " 9910 │   40000      1     49  64215      4      1        1      0      1\n",
       " 9911 │     172      1     34  13500      1      0        0      1      0\n",
       " 9912 │     836      1     33  39027      3      1        0      1      0\n",
       " 9913 │    6150      1     34  62616      4      1        1      0      0      ⋯\n",
       " 9914 │   14499      1     41  56190      3      1        1      1      0\n",
       " 9915 │   -5400      1     28  26205      4      1        1      0      0\n",
       "\u001b[36m                                                  1 column and 9900 rows omitted\u001b[0m"
      ]
     },
     "metadata": {},
     "output_type": "display_data"
    }
   ],
   "source": [
    "pension_df = CSV.read(\"data/pension.csv\", DataFrame)\n",
    "pension_df = pension_df[:, [10, 22, 13, 14, 15, 18, 20, 17, 24, 33]]"
   ]
  },
  {
   "cell_type": "markdown",
   "metadata": {},
   "source": [
    "It's always a good idea to look at your data before you fit any models, and we can see the dataset below."
   ]
  },
  {
   "cell_type": "code",
   "execution_count": 4,
   "metadata": {},
   "outputs": [
    {
     "data": {
      "text/html": [
       "<div><div style = \"float: left;\"><span>10×7 DataFrame</span></div><div style = \"clear: both;\"></div></div><div class = \"data-frame\" style = \"overflow-x: scroll;\"><table class = \"data-frame\" style = \"margin-bottom: 6px;\"><thead><tr class = \"header\"><th class = \"rowNumber\" style = \"font-weight: bold; text-align: right;\">Row</th><th style = \"text-align: left;\">variable</th><th style = \"text-align: left;\">mean</th><th style = \"text-align: left;\">min</th><th style = \"text-align: left;\">median</th><th style = \"text-align: left;\">max</th><th style = \"text-align: left;\">nmissing</th><th style = \"text-align: left;\">eltype</th></tr><tr class = \"subheader headerLastRow\"><th class = \"rowNumber\" style = \"font-weight: bold; text-align: right;\"></th><th title = \"Symbol\" style = \"text-align: left;\">Symbol</th><th title = \"Float64\" style = \"text-align: left;\">Float64</th><th title = \"Int64\" style = \"text-align: left;\">Int64</th><th title = \"Float64\" style = \"text-align: left;\">Float64</th><th title = \"Int64\" style = \"text-align: left;\">Int64</th><th title = \"Int64\" style = \"text-align: left;\">Int64</th><th title = \"DataType\" style = \"text-align: left;\">DataType</th></tr></thead><tbody><tr><td class = \"rowNumber\" style = \"font-weight: bold; text-align: right;\">1</td><td style = \"text-align: left;\">net_tfa</td><td style = \"text-align: right;\">18051.5</td><td style = \"text-align: right;\">-502302</td><td style = \"text-align: right;\">1499.0</td><td style = \"text-align: right;\">1536798</td><td style = \"text-align: right;\">0</td><td style = \"text-align: left;\">Int64</td></tr><tr><td class = \"rowNumber\" style = \"font-weight: bold; text-align: right;\">2</td><td style = \"text-align: left;\">e401</td><td style = \"text-align: right;\">0.371357</td><td style = \"text-align: right;\">0</td><td style = \"text-align: right;\">0.0</td><td style = \"text-align: right;\">1</td><td style = \"text-align: right;\">0</td><td style = \"text-align: left;\">Int64</td></tr><tr><td class = \"rowNumber\" style = \"font-weight: bold; text-align: right;\">3</td><td style = \"text-align: left;\">age</td><td style = \"text-align: right;\">41.0602</td><td style = \"text-align: right;\">25</td><td style = \"text-align: right;\">40.0</td><td style = \"text-align: right;\">64</td><td style = \"text-align: right;\">0</td><td style = \"text-align: left;\">Int64</td></tr><tr><td class = \"rowNumber\" style = \"font-weight: bold; text-align: right;\">4</td><td style = \"text-align: left;\">inc</td><td style = \"text-align: right;\">37200.6</td><td style = \"text-align: right;\">-2652</td><td style = \"text-align: right;\">31476.0</td><td style = \"text-align: right;\">242124</td><td style = \"text-align: right;\">0</td><td style = \"text-align: left;\">Int64</td></tr><tr><td class = \"rowNumber\" style = \"font-weight: bold; text-align: right;\">5</td><td style = \"text-align: left;\">fsize</td><td style = \"text-align: right;\">2.86586</td><td style = \"text-align: right;\">1</td><td style = \"text-align: right;\">3.0</td><td style = \"text-align: right;\">13</td><td style = \"text-align: right;\">0</td><td style = \"text-align: left;\">Int64</td></tr><tr><td class = \"rowNumber\" style = \"font-weight: bold; text-align: right;\">6</td><td style = \"text-align: left;\">marr</td><td style = \"text-align: right;\">0.604841</td><td style = \"text-align: right;\">0</td><td style = \"text-align: right;\">1.0</td><td style = \"text-align: right;\">1</td><td style = \"text-align: right;\">0</td><td style = \"text-align: left;\">Int64</td></tr><tr><td class = \"rowNumber\" style = \"font-weight: bold; text-align: right;\">7</td><td style = \"text-align: left;\">twoearn</td><td style = \"text-align: right;\">0.380837</td><td style = \"text-align: right;\">0</td><td style = \"text-align: right;\">0.0</td><td style = \"text-align: right;\">1</td><td style = \"text-align: right;\">0</td><td style = \"text-align: left;\">Int64</td></tr><tr><td class = \"rowNumber\" style = \"font-weight: bold; text-align: right;\">8</td><td style = \"text-align: left;\">db</td><td style = \"text-align: right;\">0.271004</td><td style = \"text-align: right;\">0</td><td style = \"text-align: right;\">0.0</td><td style = \"text-align: right;\">1</td><td style = \"text-align: right;\">0</td><td style = \"text-align: left;\">Int64</td></tr><tr><td class = \"rowNumber\" style = \"font-weight: bold; text-align: right;\">9</td><td style = \"text-align: left;\">pira</td><td style = \"text-align: right;\">0.242158</td><td style = \"text-align: right;\">0</td><td style = \"text-align: right;\">0.0</td><td style = \"text-align: right;\">1</td><td style = \"text-align: right;\">0</td><td style = \"text-align: left;\">Int64</td></tr><tr><td class = \"rowNumber\" style = \"font-weight: bold; text-align: right;\">10</td><td style = \"text-align: left;\">hown</td><td style = \"text-align: right;\">0.635199</td><td style = \"text-align: right;\">0</td><td style = \"text-align: right;\">1.0</td><td style = \"text-align: right;\">1</td><td style = \"text-align: right;\">0</td><td style = \"text-align: left;\">Int64</td></tr></tbody></table></div>"
      ],
      "text/latex": [
       "\\begin{tabular}{r|ccccccc}\n",
       "\t& variable & mean & min & median & max & nmissing & eltype\\\\\n",
       "\t\\hline\n",
       "\t& Symbol & Float64 & Int64 & Float64 & Int64 & Int64 & DataType\\\\\n",
       "\t\\hline\n",
       "\t1 & net\\_tfa & 18051.5 & -502302 & 1499.0 & 1536798 & 0 & Int64 \\\\\n",
       "\t2 & e401 & 0.371357 & 0 & 0.0 & 1 & 0 & Int64 \\\\\n",
       "\t3 & age & 41.0602 & 25 & 40.0 & 64 & 0 & Int64 \\\\\n",
       "\t4 & inc & 37200.6 & -2652 & 31476.0 & 242124 & 0 & Int64 \\\\\n",
       "\t5 & fsize & 2.86586 & 1 & 3.0 & 13 & 0 & Int64 \\\\\n",
       "\t6 & marr & 0.604841 & 0 & 1.0 & 1 & 0 & Int64 \\\\\n",
       "\t7 & twoearn & 0.380837 & 0 & 0.0 & 1 & 0 & Int64 \\\\\n",
       "\t8 & db & 0.271004 & 0 & 0.0 & 1 & 0 & Int64 \\\\\n",
       "\t9 & pira & 0.242158 & 0 & 0.0 & 1 & 0 & Int64 \\\\\n",
       "\t10 & hown & 0.635199 & 0 & 1.0 & 1 & 0 & Int64 \\\\\n",
       "\\end{tabular}\n"
      ],
      "text/plain": [
       "\u001b[1m10×7 DataFrame\u001b[0m\n",
       "\u001b[1m Row \u001b[0m│\u001b[1m variable \u001b[0m\u001b[1m mean         \u001b[0m\u001b[1m min     \u001b[0m\u001b[1m median  \u001b[0m\u001b[1m max     \u001b[0m\u001b[1m nmissing \u001b[0m\u001b[1m eltype   \u001b[0m\n",
       "     │\u001b[90m Symbol   \u001b[0m\u001b[90m Float64      \u001b[0m\u001b[90m Int64   \u001b[0m\u001b[90m Float64 \u001b[0m\u001b[90m Int64   \u001b[0m\u001b[90m Int64    \u001b[0m\u001b[90m DataType \u001b[0m\n",
       "─────┼───────────────────────────────────────────────────────────────────────\n",
       "   1 │ net_tfa   18051.5       -502302   1499.0  1536798         0  Int64\n",
       "   2 │ e401          0.371357        0      0.0        1         0  Int64\n",
       "   3 │ age          41.0602         25     40.0       64         0  Int64\n",
       "   4 │ inc       37200.6         -2652  31476.0   242124         0  Int64\n",
       "   5 │ fsize         2.86586         1      3.0       13         0  Int64\n",
       "   6 │ marr          0.604841        0      1.0        1         0  Int64\n",
       "   7 │ twoearn       0.380837        0      0.0        1         0  Int64\n",
       "   8 │ db            0.271004        0      0.0        1         0  Int64\n",
       "   9 │ pira          0.242158        0      0.0        1         0  Int64\n",
       "  10 │ hown          0.635199        0      1.0        1         0  Int64"
      ]
     },
     "metadata": {},
     "output_type": "display_data"
    }
   ],
   "source": [
    "describe(pension_df)"
   ]
  },
  {
   "cell_type": "markdown",
   "metadata": {},
   "source": [
    "## Preprocessing\n",
    "We need to separately pass in covariates, the treatment variable, and the outcome variable, so we will split them up here and normalize some of the covariates"
   ]
  },
  {
   "cell_type": "code",
   "execution_count": 5,
   "metadata": {},
   "outputs": [
    {
     "data": {
      "text/plain": [
       "(\u001b[1m9915×8 DataFrame\u001b[0m\n",
       "\u001b[1m  Row \u001b[0m│\u001b[1m age   \u001b[0m\u001b[1m inc   \u001b[0m\u001b[1m fsize \u001b[0m\u001b[1m marr  \u001b[0m\u001b[1m twoearn \u001b[0m\u001b[1m db    \u001b[0m\u001b[1m pira  \u001b[0m\u001b[1m hown  \u001b[0m\n",
       "      │\u001b[90m Int64 \u001b[0m\u001b[90m Int64 \u001b[0m\u001b[90m Int64 \u001b[0m\u001b[90m Int64 \u001b[0m\u001b[90m Int64   \u001b[0m\u001b[90m Int64 \u001b[0m\u001b[90m Int64 \u001b[0m\u001b[90m Int64 \u001b[0m\n",
       "──────┼──────────────────────────────────────────────────────────\n",
       "    1 │    31  28146      5      1        0      0      0      1\n",
       "    2 │    52  32634      5      0        0      0      0      1\n",
       "    3 │    50  52206      3      1        1      0      1      1\n",
       "    4 │    28  45252      4      1        1      0      0      0\n",
       "    5 │    42  33126      3      0        0      1      0      1\n",
       "    6 │    49  76860      6      1        1      1      0      1\n",
       "    7 │    40  57477      4      1        1      1      0      1\n",
       "    8 │    58  14637      1      0        0      0      0      0\n",
       "  ⋮   │   ⋮      ⋮      ⋮      ⋮       ⋮       ⋮      ⋮      ⋮\n",
       " 9909 │    28  31926      2      1        1      0      0      0\n",
       " 9910 │    49  64215      4      1        1      0      1      1\n",
       " 9911 │    34  13500      1      0        0      1      0      0\n",
       " 9912 │    33  39027      3      1        0      1      0      1\n",
       " 9913 │    34  62616      4      1        1      0      0      1\n",
       " 9914 │    41  56190      3      1        1      1      0      1\n",
       " 9915 │    28  26205      4      1        1      0      0      0\n",
       "\u001b[36m                                                9900 rows omitted\u001b[0m, [0, 0, 0, 0, 0, 0, 0, 0, 0, 0  …  1, 1, 1, 1, 1, 1, 1, 1, 1, 1], [-3300, 61010, 8849, -6013, -2375, -11000, -16901, 1000, 0, 6400  …  -1436, 4500, 34739, -750, 40000, 172, 836, 6150, 14499, -5400])"
      ]
     },
     "metadata": {},
     "output_type": "display_data"
    }
   ],
   "source": [
    "covariates, treatment, outcome = pension_df[:, 3:end], pension_df[:, 2], pension_df[:, 1]"
   ]
  },
  {
   "cell_type": "markdown",
   "metadata": {},
   "source": [
    "It is always a good idea in general, but especially with extreme learning machines, to normalize the covariates."
   ]
  },
  {
   "cell_type": "code",
   "execution_count": 6,
   "metadata": {},
   "outputs": [
    {
     "data": {
      "text/plain": [
       "normalize (generic function with 1 method)"
      ]
     },
     "metadata": {},
     "output_type": "display_data"
    }
   ],
   "source": [
    "normalize(col) = (col .- minimum(col)) / (maximum(col) - minimum(col))"
   ]
  },
  {
   "cell_type": "code",
   "execution_count": 7,
   "metadata": {},
   "outputs": [
    {
     "data": {
      "text/html": [
       "<div><div style = \"float: left;\"><span>9915×8 DataFrame</span></div><div style = \"float: right;\"><span style = \"font-style: italic;\">9890 rows omitted</span></div><div style = \"clear: both;\"></div></div><div class = \"data-frame\" style = \"overflow-x: scroll;\"><table class = \"data-frame\" style = \"margin-bottom: 6px;\"><thead><tr class = \"header\"><th class = \"rowNumber\" style = \"font-weight: bold; text-align: right;\">Row</th><th style = \"text-align: left;\">age</th><th style = \"text-align: left;\">inc</th><th style = \"text-align: left;\">fsize</th><th style = \"text-align: left;\">marr</th><th style = \"text-align: left;\">twoearn</th><th style = \"text-align: left;\">db</th><th style = \"text-align: left;\">pira</th><th style = \"text-align: left;\">hown</th></tr><tr class = \"subheader headerLastRow\"><th class = \"rowNumber\" style = \"font-weight: bold; text-align: right;\"></th><th title = \"Float64\" style = \"text-align: left;\">Float64</th><th title = \"Float64\" style = \"text-align: left;\">Float64</th><th title = \"Float64\" style = \"text-align: left;\">Float64</th><th title = \"Float64\" style = \"text-align: left;\">Float64</th><th title = \"Int64\" style = \"text-align: left;\">Int64</th><th title = \"Int64\" style = \"text-align: left;\">Int64</th><th title = \"Int64\" style = \"text-align: left;\">Int64</th><th title = \"Int64\" style = \"text-align: left;\">Int64</th></tr></thead><tbody><tr><td class = \"rowNumber\" style = \"font-weight: bold; text-align: right;\">1</td><td style = \"text-align: right;\">0.153846</td><td style = \"text-align: right;\">0.125821</td><td style = \"text-align: right;\">0.333333</td><td style = \"text-align: right;\">1.0</td><td style = \"text-align: right;\">0</td><td style = \"text-align: right;\">0</td><td style = \"text-align: right;\">0</td><td style = \"text-align: right;\">1</td></tr><tr><td class = \"rowNumber\" style = \"font-weight: bold; text-align: right;\">2</td><td style = \"text-align: right;\">0.692308</td><td style = \"text-align: right;\">0.144156</td><td style = \"text-align: right;\">0.333333</td><td style = \"text-align: right;\">0.0</td><td style = \"text-align: right;\">0</td><td style = \"text-align: right;\">0</td><td style = \"text-align: right;\">0</td><td style = \"text-align: right;\">1</td></tr><tr><td class = \"rowNumber\" style = \"font-weight: bold; text-align: right;\">3</td><td style = \"text-align: right;\">0.641026</td><td style = \"text-align: right;\">0.224115</td><td style = \"text-align: right;\">0.166667</td><td style = \"text-align: right;\">1.0</td><td style = \"text-align: right;\">1</td><td style = \"text-align: right;\">0</td><td style = \"text-align: right;\">1</td><td style = \"text-align: right;\">1</td></tr><tr><td class = \"rowNumber\" style = \"font-weight: bold; text-align: right;\">4</td><td style = \"text-align: right;\">0.0769231</td><td style = \"text-align: right;\">0.195705</td><td style = \"text-align: right;\">0.25</td><td style = \"text-align: right;\">1.0</td><td style = \"text-align: right;\">1</td><td style = \"text-align: right;\">0</td><td style = \"text-align: right;\">0</td><td style = \"text-align: right;\">0</td></tr><tr><td class = \"rowNumber\" style = \"font-weight: bold; text-align: right;\">5</td><td style = \"text-align: right;\">0.435897</td><td style = \"text-align: right;\">0.146166</td><td style = \"text-align: right;\">0.166667</td><td style = \"text-align: right;\">0.0</td><td style = \"text-align: right;\">0</td><td style = \"text-align: right;\">1</td><td style = \"text-align: right;\">0</td><td style = \"text-align: right;\">1</td></tr><tr><td class = \"rowNumber\" style = \"font-weight: bold; text-align: right;\">6</td><td style = \"text-align: right;\">0.615385</td><td style = \"text-align: right;\">0.324836</td><td style = \"text-align: right;\">0.416667</td><td style = \"text-align: right;\">1.0</td><td style = \"text-align: right;\">1</td><td style = \"text-align: right;\">1</td><td style = \"text-align: right;\">0</td><td style = \"text-align: right;\">1</td></tr><tr><td class = \"rowNumber\" style = \"font-weight: bold; text-align: right;\">7</td><td style = \"text-align: right;\">0.384615</td><td style = \"text-align: right;\">0.245649</td><td style = \"text-align: right;\">0.25</td><td style = \"text-align: right;\">1.0</td><td style = \"text-align: right;\">1</td><td style = \"text-align: right;\">1</td><td style = \"text-align: right;\">0</td><td style = \"text-align: right;\">1</td></tr><tr><td class = \"rowNumber\" style = \"font-weight: bold; text-align: right;\">8</td><td style = \"text-align: right;\">0.846154</td><td style = \"text-align: right;\">0.0706319</td><td style = \"text-align: right;\">0.0</td><td style = \"text-align: right;\">0.0</td><td style = \"text-align: right;\">0</td><td style = \"text-align: right;\">0</td><td style = \"text-align: right;\">0</td><td style = \"text-align: right;\">0</td></tr><tr><td class = \"rowNumber\" style = \"font-weight: bold; text-align: right;\">9</td><td style = \"text-align: right;\">0.102564</td><td style = \"text-align: right;\">0.0376875</td><td style = \"text-align: right;\">0.25</td><td style = \"text-align: right;\">0.0</td><td style = \"text-align: right;\">0</td><td style = \"text-align: right;\">0</td><td style = \"text-align: right;\">0</td><td style = \"text-align: right;\">0</td></tr><tr><td class = \"rowNumber\" style = \"font-weight: bold; text-align: right;\">10</td><td style = \"text-align: right;\">0.641026</td><td style = \"text-align: right;\">0.0343906</td><td style = \"text-align: right;\">0.0</td><td style = \"text-align: right;\">0.0</td><td style = \"text-align: right;\">0</td><td style = \"text-align: right;\">0</td><td style = \"text-align: right;\">1</td><td style = \"text-align: right;\">0</td></tr><tr><td class = \"rowNumber\" style = \"font-weight: bold; text-align: right;\">11</td><td style = \"text-align: right;\">0.512821</td><td style = \"text-align: right;\">0.187482</td><td style = \"text-align: right;\">0.0</td><td style = \"text-align: right;\">0.0</td><td style = \"text-align: right;\">0</td><td style = \"text-align: right;\">1</td><td style = \"text-align: right;\">1</td><td style = \"text-align: right;\">1</td></tr><tr><td class = \"rowNumber\" style = \"font-weight: bold; text-align: right;\">12</td><td style = \"text-align: right;\">0.0</td><td style = \"text-align: right;\">0.175569</td><td style = \"text-align: right;\">0.166667</td><td style = \"text-align: right;\">1.0</td><td style = \"text-align: right;\">1</td><td style = \"text-align: right;\">0</td><td style = \"text-align: right;\">0</td><td style = \"text-align: right;\">0</td></tr><tr><td class = \"rowNumber\" style = \"font-weight: bold; text-align: right;\">13</td><td style = \"text-align: right;\">0.128205</td><td style = \"text-align: right;\">0.133395</td><td style = \"text-align: right;\">0.0833333</td><td style = \"text-align: right;\">1.0</td><td style = \"text-align: right;\">0</td><td style = \"text-align: right;\">0</td><td style = \"text-align: right;\">0</td><td style = \"text-align: right;\">0</td></tr><tr><td style = \"text-align: right;\">&vellip;</td><td style = \"text-align: right;\">&vellip;</td><td style = \"text-align: right;\">&vellip;</td><td style = \"text-align: right;\">&vellip;</td><td style = \"text-align: right;\">&vellip;</td><td style = \"text-align: right;\">&vellip;</td><td style = \"text-align: right;\">&vellip;</td><td style = \"text-align: right;\">&vellip;</td><td style = \"text-align: right;\">&vellip;</td></tr><tr><td class = \"rowNumber\" style = \"font-weight: bold; text-align: right;\">9904</td><td style = \"text-align: right;\">0.974359</td><td style = \"text-align: right;\">0.167333</td><td style = \"text-align: right;\">0.0</td><td style = \"text-align: right;\">0.0</td><td style = \"text-align: right;\">0</td><td style = \"text-align: right;\">0</td><td style = \"text-align: right;\">1</td><td style = \"text-align: right;\">1</td></tr><tr><td class = \"rowNumber\" style = \"font-weight: bold; text-align: right;\">9905</td><td style = \"text-align: right;\">0.179487</td><td style = \"text-align: right;\">0.213232</td><td style = \"text-align: right;\">0.166667</td><td style = \"text-align: right;\">1.0</td><td style = \"text-align: right;\">1</td><td style = \"text-align: right;\">0</td><td style = \"text-align: right;\">0</td><td style = \"text-align: right;\">1</td></tr><tr><td class = \"rowNumber\" style = \"font-weight: bold; text-align: right;\">9906</td><td style = \"text-align: right;\">0.0512821</td><td style = \"text-align: right;\">0.165323</td><td style = \"text-align: right;\">0.25</td><td style = \"text-align: right;\">1.0</td><td style = \"text-align: right;\">1</td><td style = \"text-align: right;\">0</td><td style = \"text-align: right;\">0</td><td style = \"text-align: right;\">0</td></tr><tr><td class = \"rowNumber\" style = \"font-weight: bold; text-align: right;\">9907</td><td style = \"text-align: right;\">0.435897</td><td style = \"text-align: right;\">0.078292</td><td style = \"text-align: right;\">0.0</td><td style = \"text-align: right;\">0.0</td><td style = \"text-align: right;\">0</td><td style = \"text-align: right;\">0</td><td style = \"text-align: right;\">0</td><td style = \"text-align: right;\">1</td></tr><tr><td class = \"rowNumber\" style = \"font-weight: bold; text-align: right;\">9908</td><td style = \"text-align: right;\">0.333333</td><td style = \"text-align: right;\">0.0804</td><td style = \"text-align: right;\">0.166667</td><td style = \"text-align: right;\">1.0</td><td style = \"text-align: right;\">0</td><td style = \"text-align: right;\">0</td><td style = \"text-align: right;\">0</td><td style = \"text-align: right;\">1</td></tr><tr><td class = \"rowNumber\" style = \"font-weight: bold; text-align: right;\">9909</td><td style = \"text-align: right;\">0.0769231</td><td style = \"text-align: right;\">0.141264</td><td style = \"text-align: right;\">0.0833333</td><td style = \"text-align: right;\">1.0</td><td style = \"text-align: right;\">1</td><td style = \"text-align: right;\">0</td><td style = \"text-align: right;\">0</td><td style = \"text-align: right;\">0</td></tr><tr><td class = \"rowNumber\" style = \"font-weight: bold; text-align: right;\">9910</td><td style = \"text-align: right;\">0.615385</td><td style = \"text-align: right;\">0.273176</td><td style = \"text-align: right;\">0.25</td><td style = \"text-align: right;\">1.0</td><td style = \"text-align: right;\">1</td><td style = \"text-align: right;\">0</td><td style = \"text-align: right;\">1</td><td style = \"text-align: right;\">1</td></tr><tr><td class = \"rowNumber\" style = \"font-weight: bold; text-align: right;\">9911</td><td style = \"text-align: right;\">0.230769</td><td style = \"text-align: right;\">0.0659869</td><td style = \"text-align: right;\">0.0</td><td style = \"text-align: right;\">0.0</td><td style = \"text-align: right;\">0</td><td style = \"text-align: right;\">1</td><td style = \"text-align: right;\">0</td><td style = \"text-align: right;\">0</td></tr><tr><td class = \"rowNumber\" style = \"font-weight: bold; text-align: right;\">9912</td><td style = \"text-align: right;\">0.205128</td><td style = \"text-align: right;\">0.170274</td><td style = \"text-align: right;\">0.166667</td><td style = \"text-align: right;\">1.0</td><td style = \"text-align: right;\">0</td><td style = \"text-align: right;\">1</td><td style = \"text-align: right;\">0</td><td style = \"text-align: right;\">1</td></tr><tr><td class = \"rowNumber\" style = \"font-weight: bold; text-align: right;\">9913</td><td style = \"text-align: right;\">0.230769</td><td style = \"text-align: right;\">0.266644</td><td style = \"text-align: right;\">0.25</td><td style = \"text-align: right;\">1.0</td><td style = \"text-align: right;\">1</td><td style = \"text-align: right;\">0</td><td style = \"text-align: right;\">0</td><td style = \"text-align: right;\">1</td></tr><tr><td class = \"rowNumber\" style = \"font-weight: bold; text-align: right;\">9914</td><td style = \"text-align: right;\">0.410256</td><td style = \"text-align: right;\">0.240391</td><td style = \"text-align: right;\">0.166667</td><td style = \"text-align: right;\">1.0</td><td style = \"text-align: right;\">1</td><td style = \"text-align: right;\">1</td><td style = \"text-align: right;\">0</td><td style = \"text-align: right;\">1</td></tr><tr><td class = \"rowNumber\" style = \"font-weight: bold; text-align: right;\">9915</td><td style = \"text-align: right;\">0.0769231</td><td style = \"text-align: right;\">0.117891</td><td style = \"text-align: right;\">0.25</td><td style = \"text-align: right;\">1.0</td><td style = \"text-align: right;\">1</td><td style = \"text-align: right;\">0</td><td style = \"text-align: right;\">0</td><td style = \"text-align: right;\">0</td></tr></tbody></table></div>"
      ],
      "text/latex": [
       "\\begin{tabular}{r|cccccccc}\n",
       "\t& age & inc & fsize & marr & twoearn & db & pira & hown\\\\\n",
       "\t\\hline\n",
       "\t& Float64 & Float64 & Float64 & Float64 & Int64 & Int64 & Int64 & Int64\\\\\n",
       "\t\\hline\n",
       "\t1 & 0.153846 & 0.125821 & 0.333333 & 1.0 & 0 & 0 & 0 & 1 \\\\\n",
       "\t2 & 0.692308 & 0.144156 & 0.333333 & 0.0 & 0 & 0 & 0 & 1 \\\\\n",
       "\t3 & 0.641026 & 0.224115 & 0.166667 & 1.0 & 1 & 0 & 1 & 1 \\\\\n",
       "\t4 & 0.0769231 & 0.195705 & 0.25 & 1.0 & 1 & 0 & 0 & 0 \\\\\n",
       "\t5 & 0.435897 & 0.146166 & 0.166667 & 0.0 & 0 & 1 & 0 & 1 \\\\\n",
       "\t6 & 0.615385 & 0.324836 & 0.416667 & 1.0 & 1 & 1 & 0 & 1 \\\\\n",
       "\t7 & 0.384615 & 0.245649 & 0.25 & 1.0 & 1 & 1 & 0 & 1 \\\\\n",
       "\t8 & 0.846154 & 0.0706319 & 0.0 & 0.0 & 0 & 0 & 0 & 0 \\\\\n",
       "\t9 & 0.102564 & 0.0376875 & 0.25 & 0.0 & 0 & 0 & 0 & 0 \\\\\n",
       "\t10 & 0.641026 & 0.0343906 & 0.0 & 0.0 & 0 & 0 & 1 & 0 \\\\\n",
       "\t11 & 0.512821 & 0.187482 & 0.0 & 0.0 & 0 & 1 & 1 & 1 \\\\\n",
       "\t12 & 0.0 & 0.175569 & 0.166667 & 1.0 & 1 & 0 & 0 & 0 \\\\\n",
       "\t13 & 0.128205 & 0.133395 & 0.0833333 & 1.0 & 0 & 0 & 0 & 0 \\\\\n",
       "\t14 & 0.0512821 & 0.050103 & 0.0 & 0.0 & 0 & 0 & 0 & 0 \\\\\n",
       "\t15 & 0.435897 & 0.358442 & 0.25 & 1.0 & 1 & 0 & 1 & 1 \\\\\n",
       "\t16 & 0.25641 & 0.142416 & 0.0833333 & 1.0 & 1 & 0 & 0 & 0 \\\\\n",
       "\t17 & 0.25641 & 0.270357 & 0.0 & 0.0 & 0 & 0 & 1 & 0 \\\\\n",
       "\t18 & 0.410256 & 0.141141 & 0.333333 & 1.0 & 0 & 0 & 0 & 0 \\\\\n",
       "\t19 & 0.717949 & 0.0506422 & 0.0 & 1.0 & 0 & 0 & 0 & 0 \\\\\n",
       "\t20 & 0.948718 & 0.315558 & 0.166667 & 1.0 & 0 & 1 & 0 & 1 \\\\\n",
       "\t21 & 0.512821 & 0.166683 & 0.0 & 0.0 & 0 & 0 & 0 & 0 \\\\\n",
       "\t22 & 0.794872 & 0.077385 & 0.0 & 0.0 & 0 & 0 & 0 & 0 \\\\\n",
       "\t23 & 0.153846 & 0.0571625 & 0.0 & 0.0 & 0 & 0 & 0 & 0 \\\\\n",
       "\t24 & 0.153846 & 0.117769 & 0.333333 & 1.0 & 1 & 0 & 0 & 0 \\\\\n",
       "\t$\\dots$ & $\\dots$ & $\\dots$ & $\\dots$ & $\\dots$ & $\\dots$ & $\\dots$ & $\\dots$ & $\\dots$ \\\\\n",
       "\\end{tabular}\n"
      ],
      "text/plain": [
       "\u001b[1m9915×8 DataFrame\u001b[0m\n",
       "\u001b[1m  Row \u001b[0m│\u001b[1m age       \u001b[0m\u001b[1m inc       \u001b[0m\u001b[1m fsize     \u001b[0m\u001b[1m marr    \u001b[0m\u001b[1m twoearn \u001b[0m\u001b[1m db    \u001b[0m\u001b[1m pira  \u001b[0m\u001b[1m hown \u001b[0m ⋯\n",
       "      │\u001b[90m Float64   \u001b[0m\u001b[90m Float64   \u001b[0m\u001b[90m Float64   \u001b[0m\u001b[90m Float64 \u001b[0m\u001b[90m Int64   \u001b[0m\u001b[90m Int64 \u001b[0m\u001b[90m Int64 \u001b[0m\u001b[90m Int64\u001b[0m ⋯\n",
       "──────┼─────────────────────────────────────────────────────────────────────────\n",
       "    1 │ 0.153846   0.125821   0.333333       1.0        0      0      0      1 ⋯\n",
       "    2 │ 0.692308   0.144156   0.333333       0.0        0      0      0      1\n",
       "    3 │ 0.641026   0.224115   0.166667       1.0        1      0      1      1\n",
       "    4 │ 0.0769231  0.195705   0.25           1.0        1      0      0      0\n",
       "    5 │ 0.435897   0.146166   0.166667       0.0        0      1      0      1 ⋯\n",
       "    6 │ 0.615385   0.324836   0.416667       1.0        1      1      0      1\n",
       "    7 │ 0.384615   0.245649   0.25           1.0        1      1      0      1\n",
       "    8 │ 0.846154   0.0706319  0.0            0.0        0      0      0      0\n",
       "  ⋮   │     ⋮          ⋮          ⋮         ⋮        ⋮       ⋮      ⋮      ⋮   ⋱\n",
       " 9909 │ 0.0769231  0.141264   0.0833333      1.0        1      0      0      0 ⋯\n",
       " 9910 │ 0.615385   0.273176   0.25           1.0        1      0      1      1\n",
       " 9911 │ 0.230769   0.0659869  0.0            0.0        0      1      0      0\n",
       " 9912 │ 0.205128   0.170274   0.166667       1.0        0      1      0      1\n",
       " 9913 │ 0.230769   0.266644   0.25           1.0        1      0      0      1 ⋯\n",
       " 9914 │ 0.410256   0.240391   0.166667       1.0        1      1      0      1\n",
       " 9915 │ 0.0769231  0.117891   0.25           1.0        1      0      0      0\n",
       "\u001b[36m                                                              9900 rows omitted\u001b[0m"
      ]
     },
     "metadata": {},
     "output_type": "display_data"
    }
   ],
   "source": [
    "covariates = combine(\n",
    "    covariates, \n",
    "    [:age, :inc, :fsize, :marr] .=> normalize, \n",
    "    :twoearn, \n",
    "    :db, \n",
    "    :pira, \n",
    "    :hown, \n",
    "    renamecols=false\n",
    ")"
   ]
  },
  {
   "cell_type": "markdown",
   "metadata": {},
   "source": [
    "# Fitting a model\n",
    "Since this is a (kind of) higher dimensional model that may have nonlinearities, this is a good candidate for double machine learning. Fitting a model is very simple."
   ]
  },
  {
   "cell_type": "code",
   "execution_count": 8,
   "metadata": {},
   "outputs": [
    {
     "data": {
      "text/plain": [
       "DoubleMachineLearning([0.8461538461538461 0.09652907147759585 … 0.0 1.0; 0.6923076923076923 0.1634473968036082 … 0.0 1.0; … ; 0.9743589743589743 0.05228453769977449 … 0.0 1.0; 0.1794871794871795 0.11143249338170409 … 1.0 1.0], [0.0, 1.0, 1.0, 0.0, 0.0, 0.0, 1.0, 0.0, 1.0, 0.0  …  1.0, 0.0, 1.0, 1.0, 0.0, 0.0, 1.0, 1.0, 0.0, 0.0], [41499.0, 14825.0, -6400.0, -900.0, -16122.0, 350.0, 27029.0, 5400.0, 92384.0, -500.0  …  -200.0, 24654.0, 89509.0, 65950.0, 550.0, -1601.0, 55608.0, 3000.0, -1691.0, 12650.0], \"ATE\", false, \"regression\", CausalELM.swish, 9915, 50, 6, 24, NaN, 5)"
      ]
     },
     "metadata": {},
     "output_type": "display_data"
    }
   ],
   "source": [
    "dml_model = DoubleMachineLearning(covariates, treatment, outcome)"
   ]
  },
  {
   "cell_type": "code",
   "execution_count": 9,
   "metadata": {},
   "outputs": [
    {
     "data": {
      "text/plain": [
       "8721.139649868901"
      ]
     },
     "metadata": {},
     "output_type": "display_data"
    }
   ],
   "source": [
    "estimate_causal_effect!(dml_model)"
   ]
  },
  {
   "cell_type": "markdown",
   "metadata": {},
   "source": [
    "## Getting a summary\n",
    "Just as in R, we can get a summary of the model and see basic information about it. Note that the p-value and standard error are null here. By default they are not calculated but you can calulating them by setting the inference keyword argument to true. Howver, since p-values and standard errors are calculated with randomization inference, this will take a long time."
   ]
  },
  {
   "cell_type": "code",
   "execution_count": 10,
   "metadata": {},
   "outputs": [
    {
     "data": {
      "text/plain": [
       "Dict{Any, Any} with 11 entries:\n",
       "  \"Activation Function\"    => swish\n",
       "  \"Quantity of Interest\"   => \"ATE\"\n",
       "  \"Sample Size\"            => 9915\n",
       "  \"Number of Machines\"     => 50\n",
       "  \"Causal Effect\"          => 8721.14\n",
       "  \"Number of Neurons\"      => 24\n",
       "  \"Task\"                   => \"regression\"\n",
       "  \"Time Series/Panel Data\" => false\n",
       "  \"Standard Error\"         => NaN\n",
       "  \"p-value\"                => NaN\n",
       "  \"Number of Features\"     => 6"
      ]
     },
     "metadata": {},
     "output_type": "display_data"
    }
   ],
   "source": [
    "# We can also use the British spelling summarise(dml)\n",
    "summarize(dml_model)"
   ]
  },
  {
   "cell_type": "markdown",
   "metadata": {},
   "source": [
    "## Model Validation\n",
    "Often the most important part of estimating causal effects is making sure the model meets some assumptions or seeing how sensitive it iw to violations of those assumptions. Using the validate method we can easily see how sensitive our model is to violations of the coutnerfactual consistency assumption, hidden confounders, and verify that there is overlap between the treatment and control groups. The first object in the dictionary shows the average estimated causal effects for some simulated violations of the counterfactual consistency assumption. The second item is the E-value, which tells how much hidden confounding there would need to be to change the results. And finally, the last item is a matrix with observations that have a zero or near zero probability of being assigned to either the treatment or control group."
   ]
  },
  {
   "cell_type": "code",
   "execution_count": 11,
   "metadata": {},
   "outputs": [
    {
     "data": {
      "text/plain": [
       "(Dict(\"0.1 Standard Deviations from Observed Outcomes\" => 7903.440095883949, \"0.075 Standard Deviations from Observed Outcomes\" => 7564.405940233361, \"0.025 Standard Deviations from Observed Outcomes\" => 8810.321764706268, \"0.05 Standard Deviations from Observed Outcomes\" => 7793.5616595259535), 2.505410444617261, Matrix{Float64}(undef, 0, 9))"
      ]
     },
     "metadata": {},
     "output_type": "display_data"
    }
   ],
   "source": [
    "validate(dml_model)"
   ]
  }
 ],
 "metadata": {
  "kernelspec": {
   "display_name": "Julia 1.8.5",
   "language": "julia",
   "name": "julia-1.8"
  },
  "language_info": {
   "file_extension": ".jl",
   "mimetype": "application/julia",
   "name": "julia",
   "version": "1.8.5"
  }
 },
 "nbformat": 4,
 "nbformat_minor": 2
}
